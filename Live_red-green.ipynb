{
 "cells": [
  {
   "cell_type": "code",
   "execution_count": 1,
   "metadata": {
    "collapsed": true
   },
   "outputs": [],
   "source": [
    "import cv2\n",
    "import numpy as np\n"
   ]
  },
  {
   "cell_type": "code",
   "execution_count": 2,
   "metadata": {
    "collapsed": true
   },
   "outputs": [],
   "source": [
    "def adjust(x):\n",
    "    pass\n",
    "    "
   ]
  },
  {
   "cell_type": "code",
   "execution_count": 6,
   "metadata": {
    "collapsed": false
   },
   "outputs": [],
   "source": [
    "#Adjustment sliders for color range\n",
    "cv2.namedWindow('red')\n",
    "#max and min red HSV values (Hue, Saturation Value)\n",
    "#For typical red objects the hue should be between 155 and 185.  \n",
    "#Glowsticks will probably need some modifications and testing\n",
    "minHRed=155\n",
    "maxHRed=185\n",
    "minSRed=0\n",
    "maxSRed=255\n",
    "minVRed=0\n",
    "maxVRed=255\n",
    "#default values\n",
    "lowerHRedDefault=160\n",
    "upperHRedDefault=180\n",
    "# define color ranges in HSV\n",
    "lower_red = np.array([lowerHRedDefault*-1, minSRed, minVRed])\n",
    "upper_red = np.array([upperHRedDefault, maxSRed, maxVRed]) \n",
    "\n",
    "\n",
    "# create trackbars \n",
    "cv2.createTrackbar('Hue_Upper', 'red', upper_red[0], abs(maxHRed-minHRed), adjust)\n",
    "cv2.createTrackbar('Hue_Lower', 'red', lower_red[0], abs(maxHRed-minHRed), adjust)\n",
    "cv2.createTrackbar('Sat_Upper', 'red', upper_red[1], abs(maxSRed-minSRed), adjust)\n",
    "cv2.createTrackbar('Sat_Lower', 'red', lower_red[1], abs(maxSRed-minSRed), adjust)\n",
    "cv2.createTrackbar('Val_Upper', 'red', upper_red[2], abs(maxVRed-minVRed), adjust)\n",
    "cv2.createTrackbar('Val_Lower', 'red', lower_red[2], abs(maxVRed-minVRed), adjust)\n",
    "\n",
    "cv2.namedWindow('green')\n",
    "minHGreen=40\n",
    "maxHGreen=80\n",
    "minSGreen=10\n",
    "maxSGreen=255\n",
    "minVGreen=10\n",
    "maxVGreen=255\n",
    "#default values\n",
    "lowerHGreenDefault=50\n",
    "upperHGreenDefault=70\n",
    "# define color ranges in HSV\n",
    "# FIXME multiply by -1 to set initial values; this needs a better solution\n",
    "lower_green = np.array([lowerHGreenDefault*-1, minSGreen*-1, minVGreen*-1])\n",
    "upper_green = np.array([upperHGreenDefault, maxSGreen, maxVGreen]) \n",
    "\n",
    "# create trackbars \n",
    "cv2.createTrackbar('Hue_Upper', 'green', upper_green[0], abs(maxHGreen-minHGreen), adjust)\n",
    "cv2.createTrackbar('Hue_Lower', 'green', lower_green[0], abs(maxHGreen-minHGreen), adjust)\n",
    "cv2.createTrackbar('Sat_Upper', 'green', upper_green[1], abs(maxSGreen-minSGreen), adjust)\n",
    "cv2.createTrackbar('Sat_Lower', 'green', lower_green[1], abs(maxSGreen-minSGreen), adjust)\n",
    "cv2.createTrackbar('Val_Upper', 'green', upper_green[2], abs(maxVGreen-minVGreen), adjust)\n",
    "cv2.createTrackbar('Val_Lower', 'green', lower_green[2], abs(maxVGreen-minVGreen), adjust)\n",
    "\n",
    "\n",
    "cv2.namedWindow('testing')\n",
    "minHTesting=0\n",
    "maxHTesting=255\n",
    "minSTesting=0\n",
    "maxSTesting=255\n",
    "minVTesting=0\n",
    "maxVTesting=255\n",
    "#default values\n",
    "lowerHTestingDefault=0\n",
    "upperHTestingDefault=255\n",
    "# define color ranges in HSV\n",
    "\n",
    "lower_testing = np.array([lowerHTestingDefault, minSGreen, minVGreen])\n",
    "upper_testing = np.array([upperHTestingDefault, maxSGreen, maxVGreen]) \n",
    "\n",
    "\n",
    "# create trackbars \n",
    "cv2.createTrackbar('Hue_Upper', 'testing', upper_testing[0], abs(maxHTesting-minHTesting), adjust)\n",
    "cv2.createTrackbar('Hue_Lower', 'testing', lower_testing[0], abs(maxHTesting-minHTesting), adjust)\n",
    "cv2.createTrackbar('Sat_Upper', 'testing', upper_testing[1], abs(maxSTesting-minSTesting), adjust)\n",
    "cv2.createTrackbar('Sat_Lower', 'testing', lower_testing[1], abs(maxSTesting-minSTesting), adjust)\n",
    "cv2.createTrackbar('Val_Upper', 'testing', upper_testing[2], abs(maxVTesting-minVTesting), adjust)\n",
    "cv2.createTrackbar('Val_Lower', 'testing', lower_testing[2], abs(maxVTesting-minVTesting), adjust)\n",
    "\n",
    "\n",
    "#minHGreen=50 \n",
    "#cv2.createTrackbar('lower_green_adjust', 'green', lower_green[0], 79, adjust)\n",
    "#cv2.createTrackbar('upper_green_adjust', 'green', upper_green[0], 79, adjust)"
   ]
  },
  {
   "cell_type": "code",
   "execution_count": 7,
   "metadata": {
    "collapsed": false
   },
   "outputs": [
    {
     "data": {
      "text/plain": [
       "-1"
      ]
     },
     "execution_count": 7,
     "metadata": {},
     "output_type": "execute_result"
    }
   ],
   "source": [
    "cap = cv2.VideoCapture(0)\n",
    "\n",
    "\n",
    "while(1):\n",
    "  \n",
    "    # Take each frame\n",
    "    _, frame = cap.read()\n",
    "\n",
    "    # Convert BGR to HSV\n",
    "    hsv = cv2.cvtColor(frame, cv2.COLOR_BGR2HSV)\n",
    "\n",
    "    # Threshold the selected HSV colors\n",
    "    mask_red = cv2.inRange(hsv, lower_red, upper_red)\n",
    "      \n",
    "    mask_green = cv2.inRange(hsv, lower_green, upper_green)\n",
    "    \n",
    "    mask_testing = cv2.inRange(hsv, lower_testing, upper_testing)\n",
    "\n",
    "    # Bitwise-AND mask and original image\n",
    "    ratio='Red:Green '+str(cv2.countNonZero(mask_red))+\":\"+str(cv2.countNonZero(mask_green))\n",
    "    #res = cv2.bitwise_and(frame,frame, mask= mask_red)\n",
    "    \n",
    "    #calculate the resulting image - this may be much slower than just dealing with the masks consider reverting\n",
    "    res_red=cv2.bitwise_and(frame, frame, mask=mask_red)\n",
    "    res_green=cv2.bitwise_and(frame, frame, mask=mask_green)\n",
    "    res_testing=cv2.bitwise_and(frame, frame, mask=mask_testing)\n",
    "    \n",
    "    # add red:green ratio to window\n",
    "    cv2.putText(frame, ratio, (10,50), cv2.FONT_HERSHEY_PLAIN, 2, (0, 0, 0), 2 )\n",
    "    \n",
    "    # take red:green measurments above this point    \n",
    "    \n",
    "    # all text additions need to be made AFTER measurements have been taken!\n",
    "    # add adjustment slider values to window\n",
    "    cv2.putText(res_red, \"Low:\"+str(lower_red), (10,50), cv2.FONT_HERSHEY_PLAIN, 2, (255,255,255), 2 )\n",
    "    cv2.putText(res_red, \"Up: \"+str(upper_red), (10, 100), cv2.FONT_HERSHEY_PLAIN, 2, (255, 255, 255), 2)    \n",
    "    \n",
    "    cv2.putText(res_green, \"Low:\"+str(lower_green), (10,50), cv2.FONT_HERSHEY_PLAIN, 2, (255,255,255), 2 )\n",
    "    cv2.putText(res_green, \"Up: \"+str(upper_green), (10, 100), cv2.FONT_HERSHEY_PLAIN, 2, (255, 255, 255), 2)\n",
    "    \n",
    "    cv2.putText(res_testing, \"Low:\"+str(lower_testing), (10,50), cv2.FONT_HERSHEY_PLAIN, 2, (255, 255, 255), 2)\n",
    "    cv2.putText(res_testing, \"Up: \"+str(upper_testing), (10, 100), cv2.FONT_HERSHEY_PLAIN, 2, (255, 255, 255), 2)\n",
    "\n",
    "    \n",
    "    \n",
    "    #live image      \n",
    "    cv2.imshow('live',frame)\n",
    "    \n",
    "    cv2.imshow('red', res_red)\n",
    "  \n",
    "    cv2.imshow('green', res_green)\n",
    "\n",
    "    cv2.imshow('testing', res_testing)\n",
    "\n",
    "    #read and adjust values from sliders\n",
    "    \n",
    "    lower_red[0]=minHRed+cv2.getTrackbarPos('Hue_Lower', 'red')\n",
    "    upper_red[0]=minHRed+cv2.getTrackbarPos('Hue_Upper', 'red')\n",
    "    lower_red[1]=minSRed+cv2.getTrackbarPos('Sat_Lower', 'red')\n",
    "    upper_red[1]=minSRed+cv2.getTrackbarPos('Sat_Upper', 'red')\n",
    "    lower_red[2]=minVRed+cv2.getTrackbarPos('Val_Lower', 'red')\n",
    "    upper_red[2]=minVRed+cv2.getTrackbarPos('Val_Upper', 'red')\n",
    "\n",
    "    #FIXME Lower HSV are changed at this point and jump from default values\n",
    "    # problem is with minHGreen+gtbposition <-\n",
    "    lower_green[0]=minHGreen+cv2.getTrackbarPos('Hue_Lower', 'green')\n",
    "    upper_green[0]=minHGreen+cv2.getTrackbarPos('Hue_Upper', 'green')\n",
    "    lower_green[1]=minSGreen+cv2.getTrackbarPos('Sat_Lower', 'green')\n",
    "    upper_green[1]=minSGreen+cv2.getTrackbarPos('Sat_Upper', 'green')\n",
    "    lower_green[2]=minVGreen+cv2.getTrackbarPos('Val_Lower', 'green')\n",
    "    upper_green[2]=minVGreen+cv2.getTrackbarPos('Val_Upper', 'green')\n",
    "\n",
    "    #wide open range for testing\n",
    "    lower_testing[0]=minHTesting+cv2.getTrackbarPos('Hue_Lower', 'testing')\n",
    "    upper_testing[0]=minHTesting+cv2.getTrackbarPos('Hue_Upper', 'testing')\n",
    "    lower_testing[1]=minSTesting+cv2.getTrackbarPos('Sat_Lower', 'testing')\n",
    "    upper_testing[1]=minSTesting+cv2.getTrackbarPos('Sat_Upper', 'testing')\n",
    "    lower_testing[2]=minVTesting+cv2.getTrackbarPos('Val_Lower', 'testing')\n",
    "    upper_testing[2]=minVTesting+cv2.getTrackbarPos('Val_Upper', 'testing')\n",
    "\n",
    "    \n",
    "    if cv2.waitKey(1) & 0xFF == ord('q'):\n",
    "        break\n",
    "        \n",
    "cap.release()\n",
    "cv2.destroyAllWindows()\n",
    "cv2.waitKey(1)"
   ]
  },
  {
   "cell_type": "code",
   "execution_count": null,
   "metadata": {
    "collapsed": true
   },
   "outputs": [],
   "source": []
  },
  {
   "cell_type": "code",
   "execution_count": null,
   "metadata": {
    "collapsed": true
   },
   "outputs": [],
   "source": []
  }
 ],
 "metadata": {
  "kernelspec": {
   "display_name": "Python 2",
   "language": "python",
   "name": "python2"
  },
  "language_info": {
   "codemirror_mode": {
    "name": "ipython",
    "version": 2
   },
   "file_extension": ".py",
   "mimetype": "text/x-python",
   "name": "python",
   "nbconvert_exporter": "python",
   "pygments_lexer": "ipython2",
   "version": "2.7.10"
  }
 },
 "nbformat": 4,
 "nbformat_minor": 0
}
