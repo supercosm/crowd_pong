{
 "cells": [
  {
   "cell_type": "code",
   "execution_count": 26,
   "metadata": {
    "collapsed": true
   },
   "outputs": [],
   "source": [
    "import cv2\n",
    "import numpy\n",
    "import time"
   ]
  },
  {
   "cell_type": "code",
   "execution_count": 42,
   "metadata": {
    "collapsed": false
   },
   "outputs": [
    {
     "name": "stdout",
     "output_type": "stream",
     "text": [
      "found camera devices at: [0, 1]\n"
     ]
    },
    {
     "data": {
      "text/plain": [
       "96"
      ]
     },
     "execution_count": 42,
     "metadata": {},
     "output_type": "execute_result"
    }
   ],
   "source": [
    "def checkCams():\n",
    "    '''enumerate the connected and readable video devices'''\n",
    "    cameraList = []\n",
    "    for i in range(0, 10):\n",
    "        try:\n",
    "            connected, _ = cv2.VideoCapture(i).read()\n",
    "        except Excpetion, e:\n",
    "            print 'video device', i, 'not avaialble - this is OK!'\n",
    "        cv2.VideoCapture(i).release()\n",
    "        if connected:\n",
    "            cameraList.append(i)\n",
    "    return cameraList\n",
    "\n",
    "cams = checkCams()\n",
    "print 'found camera devices at:', cams\n",
    "\n",
    "cap = cv2.VideoCapture(1)\n",
    "cap.set(3, 640)\n",
    "cap.set(4, 480)\n",
    "cap.set(5, 15)\n",
    "\n",
    "for i in range(0, 200):\n",
    "    \n",
    "    _, frame = cap.read()\n",
    "    cv2.imshow('foo' , frame)\n",
    "cap.release()\n",
    "cv2.destroyAllWindows()\n",
    "cv2.waitKey(1)"
   ]
  },
  {
   "cell_type": "code",
   "execution_count": null,
   "metadata": {
    "collapsed": true
   },
   "outputs": [],
   "source": []
  }
 ],
 "metadata": {
  "kernelspec": {
   "display_name": "Python 2",
   "language": "python",
   "name": "python2"
  },
  "language_info": {
   "codemirror_mode": {
    "name": "ipython",
    "version": 2
   },
   "file_extension": ".py",
   "mimetype": "text/x-python",
   "name": "python",
   "nbconvert_exporter": "python",
   "pygments_lexer": "ipython2",
   "version": "2.7.10"
  }
 },
 "nbformat": 4,
 "nbformat_minor": 0
}
