{
 "cells": [
  {
   "cell_type": "code",
   "execution_count": 1,
   "metadata": {
    "collapsed": true
   },
   "outputs": [],
   "source": [
    "import cv2\n",
    "import numpy\n",
    "import time"
   ]
  },
  {
   "cell_type": "code",
   "execution_count": 66,
   "metadata": {
    "collapsed": false
   },
   "outputs": [
    {
     "data": {
      "text/plain": [
       "-1"
      ]
     },
     "execution_count": 66,
     "metadata": {},
     "output_type": "execute_result"
    }
   ],
   "source": [
    "def checkCams():\n",
    "    '''enumerate the connected and readable video devices'''\n",
    "    cameraList = []\n",
    "    for i in range(0, 10):\n",
    "        try:\n",
    "            connected, _ = cv2.VideoCapture(i).read()\n",
    "        except Excpetion, e:\n",
    "            print 'video device', i, 'not avaialble - this is OK!'\n",
    "        cv2.VideoCapture(i).release()\n",
    "        if connected:\n",
    "            cameraList.append(i)\n",
    "    return cameraList\n",
    "\n",
    "#cams = checkCams()\n",
    "#print 'found camera devices at:', cams\n",
    "\n",
    "cap = cv2.VideoCapture(1)\n",
    "\n",
    "cap.set(3, 960)\n",
    "cap.set(4, 544)\n",
    "cap.set(5, 60)\n",
    "\n",
    "for i in range(0, 200):\n",
    "    \n",
    "    _, frame = cap.read()\n",
    "    cv2.imshow('foo' , frame)\n",
    "cap.release()\n",
    "cv2.destroyAllWindows()\n",
    "cv2.waitKey(1)"
   ]
  },
  {
   "cell_type": "markdown",
   "metadata": {},
   "source": [
    "640x480\n",
    "\n"
   ]
  },
  {
   "cell_type": "code",
   "execution_count": 24,
   "metadata": {
    "collapsed": false
   },
   "outputs": [
    {
     "name": "stdout",
     "output_type": "stream",
     "text": [
      "Help on built-in function get:\n",
      "\n",
      "get(...)\n",
      "    get(propId) -> retval\n",
      "\n"
     ]
    }
   ],
   "source": [
    "help(cap.get)"
   ]
  },
  {
   "cell_type": "code",
   "execution_count": 2,
   "metadata": {
    "collapsed": false
   },
   "outputs": [],
   "source": [
    "cap = cv2.VideoCapture(0)"
   ]
  },
  {
   "cell_type": "code",
   "execution_count": 4,
   "metadata": {
    "collapsed": false
   },
   "outputs": [
    {
     "name": "stdout",
     "output_type": "stream",
     "text": [
      "3 = 640.0\n",
      "4 = 480.0\n",
      "5 = 0.0\n",
      "6 = 0.0\n",
      "7 = 0.0\n",
      "8 = 0.0\n",
      "9 = 0.0\n",
      "10 = 0.0\n",
      "11 = 0.0\n",
      "12 = 0.0\n",
      "13 = 0.0\n",
      "14 = 0.0\n",
      "15 = 0.0\n",
      "16 = 0.0\n",
      "17 = 0.0\n",
      "18 = 0.0\n",
      "19 = 0.0\n",
      "20 = 0.0\n",
      "21 = 0.0\n",
      "22 = 0.0\n",
      "23 = 0.0\n",
      "24 = 0.0\n",
      "25 = 0.0\n",
      "26 = 0.0\n",
      "27 = 0.0\n",
      "28 = 0.0\n",
      "29 = 0.0\n"
     ]
    }
   ],
   "source": [
    "cap.set(3, 640)\n",
    "cap.set(4, 480)\n",
    "cap.set(5, 15)\n",
    "_, frame = cap.read()\n",
    "cv2.imshow('foo', frame)\n",
    "cv2.waitKey(1)\n",
    "cv2.destroyAllWindows()\n",
    "cv2.waitKey(1)\n",
    "for i in range(3, 30):\n",
    "    print i, '=', cap.get(i)"
   ]
  },
  {
   "cell_type": "code",
   "execution_count": null,
   "metadata": {
    "collapsed": true
   },
   "outputs": [],
   "source": []
  },
  {
   "cell_type": "code",
   "execution_count": null,
   "metadata": {
    "collapsed": true
   },
   "outputs": [],
   "source": []
  },
  {
   "cell_type": "code",
   "execution_count": null,
   "metadata": {
    "collapsed": true
   },
   "outputs": [],
   "source": []
  },
  {
   "cell_type": "code",
   "execution_count": null,
   "metadata": {
    "collapsed": true
   },
   "outputs": [],
   "source": []
  }
 ],
 "metadata": {
  "kernelspec": {
   "display_name": "Python 2",
   "language": "python",
   "name": "python2"
  },
  "language_info": {
   "codemirror_mode": {
    "name": "ipython",
    "version": 2
   },
   "file_extension": ".py",
   "mimetype": "text/x-python",
   "name": "python",
   "nbconvert_exporter": "python",
   "pygments_lexer": "ipython2",
   "version": "2.7.10"
  }
 },
 "nbformat": 4,
 "nbformat_minor": 0
}
