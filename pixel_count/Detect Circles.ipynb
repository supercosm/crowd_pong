{
 "cells": [
  {
   "cell_type": "code",
   "execution_count": 1,
   "metadata": {
    "collapsed": true
   },
   "outputs": [],
   "source": [
    "import cv2\n",
    "import numpy as np"
   ]
  },
  {
   "cell_type": "code",
   "execution_count": 86,
   "metadata": {
    "collapsed": true
   },
   "outputs": [],
   "source": [
    "#file='mb02.png'\n",
    "file='green-yellow.jpg'"
   ]
  },
  {
   "cell_type": "code",
   "execution_count": 87,
   "metadata": {
    "collapsed": false
   },
   "outputs": [],
   "source": [
    "img=cv2.imread(file, 1)"
   ]
  },
  {
   "cell_type": "code",
   "execution_count": 88,
   "metadata": {
    "collapsed": false
   },
   "outputs": [],
   "source": [
    "# list possible flags\n",
    "#flags=[i for i in dir(cv2) if i.startswith('COLOR_')]\n",
    "#print flags"
   ]
  },
  {
   "cell_type": "code",
   "execution_count": 89,
   "metadata": {
    "collapsed": false
   },
   "outputs": [],
   "source": [
    "imgHSV=cv2.cvtColor(img, cv2.COLOR_BGR2HSV)"
   ]
  },
  {
   "cell_type": "code",
   "execution_count": 90,
   "metadata": {
    "collapsed": false
   },
   "outputs": [],
   "source": [
    "lower_blue=np.array([110, 50, 50])\n",
    "upper_blue=np.array([130,255,255])\n",
    "\n",
    "lower_red=np.array([0, 100, 100])\n",
    "upper_red=np.array([20, 255, 255])\n",
    "\n",
    "lower_yellow=np.array([80, 100, 100])\n",
    "upper_yellow=np.array([100, 255, 255])\n",
    "\n",
    "lower_green=np.array([50, 100, 100])\n",
    "upper_green=np.array([70, 255, 255])\n",
    "\n",
    "#lower=lower_red\n",
    "#upper=upper_red\n",
    "\n",
    "#mask=cv2.inRange(imgHSV, lower, upper)\n",
    "#res=cv2.bitwise_and(imgHSV, imgHSV, mask=mask)\n",
    "\n",
    "mask_red=cv2.inRange(imgHSV, lower_red, upper_red)\n",
    "mask_green=cv2.inRange(imgHSV, lower_green, upper_green)\n"
   ]
  },
  {
   "cell_type": "code",
   "execution_count": null,
   "metadata": {
    "collapsed": true
   },
   "outputs": [],
   "source": []
  },
  {
   "cell_type": "code",
   "execution_count": 91,
   "metadata": {
    "collapsed": false
   },
   "outputs": [
    {
     "data": {
      "text/plain": [
       "-1"
      ]
     },
     "execution_count": 91,
     "metadata": {},
     "output_type": "execute_result"
    }
   ],
   "source": [
    "#cv2.imshow('res', res)\n",
    "cv2.imshow('green', mask_green)\n",
    "cv2.imshow('red', mask_red)\n",
    "cv2.imshow('img', img)\n",
    "cv2.imshow('imgHSV', imgHSV)\n",
    "cv2.waitKey(0)\n",
    "cv2.destroyAllWindows()\n",
    "cv2.waitKey(1)"
   ]
  },
  {
   "cell_type": "code",
   "execution_count": 3,
   "metadata": {
    "collapsed": false
   },
   "outputs": [
    {
     "name": "stdout",
     "output_type": "stream",
     "text": [
      "green [[[ 60 255 255]]]\n",
      "red [[[  0 255 255]]]\n",
      "red2 [[[120 228 190]]]\n",
      "blue [[[120 255 255]]]\n",
      "yellow [[[ 30 255 255]]]\n"
     ]
    }
   ],
   "source": [
    "green=np.uint8([[[0,255,0]]])\n",
    "hsv_green = cv2.cvtColor(green,cv2.COLOR_BGR2HSV)\n",
    "print 'green', hsv_green\n",
    "\n",
    "red=np.uint8([[[0,0,255]]])\n",
    "hsv_red=cv2.cvtColor(red,cv2.COLOR_BGR2HSV)\n",
    "print 'red', hsv_red\n",
    "\n",
    "red2=np.uint8([[[190, 20, 20]]])\n",
    "hsv_red2=cv2.cvtColor(red2, cv2.COLOR_BGR2HSV)\n",
    "print 'red2', hsv_red2\n",
    "\n",
    "blue=np.uint8([[[255,0,0]]])\n",
    "hsv_blue=cv2.cvtColor(blue, cv2.COLOR_BGR2HSV)\n",
    "print 'blue', hsv_blue\n",
    "\n",
    "yellow=np.uint8([[[0,255, 255]]])\n",
    "hsv_yellow=cv2.cvtColor(yellow,cv2.COLOR_BGR2HSV)\n",
    "print 'yellow', hsv_yellow\n"
   ]
  },
  {
   "cell_type": "code",
   "execution_count": 93,
   "metadata": {
    "collapsed": false
   },
   "outputs": [
    {
     "name": "stdout",
     "output_type": "stream",
     "text": [
      "red pix 0\n",
      "green pix 13227\n"
     ]
    }
   ],
   "source": [
    "print \"red pix\", cv2.countNonZero(mask_red)\n",
    "print \"green pix\", cv2.countNonZero(mask_green)\n"
   ]
  },
  {
   "cell_type": "code",
   "execution_count": null,
   "metadata": {
    "collapsed": true
   },
   "outputs": [],
   "source": []
  },
  {
   "cell_type": "code",
   "execution_count": null,
   "metadata": {
    "collapsed": true
   },
   "outputs": [],
   "source": []
  }
 ],
 "metadata": {
  "kernelspec": {
   "display_name": "Python 2",
   "language": "python",
   "name": "python2"
  },
  "language_info": {
   "codemirror_mode": {
    "name": "ipython",
    "version": 2
   },
   "file_extension": ".py",
   "mimetype": "text/x-python",
   "name": "python",
   "nbconvert_exporter": "python",
   "pygments_lexer": "ipython2",
   "version": "2.7.10"
  }
 },
 "nbformat": 4,
 "nbformat_minor": 0
}
